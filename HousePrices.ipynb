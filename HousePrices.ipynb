{
 "cells": [
  {
   "cell_type": "code",
   "execution_count": 35,
   "metadata": {},
   "outputs": [
    {
     "data": {
      "text/plain": [
       "Id               1460\n",
       "MSSubClass       1460\n",
       "MSZoning         1460\n",
       "LotFrontage      1460\n",
       "LotArea          1460\n",
       "                 ... \n",
       "MoSold           1460\n",
       "YrSold           1460\n",
       "SaleType         1460\n",
       "SaleCondition    1460\n",
       "SalePrice        1460\n",
       "Length: 81, dtype: int64"
      ]
     },
     "execution_count": 35,
     "metadata": {},
     "output_type": "execute_result"
    }
   ],
   "source": [
    "import pandas as pd\n",
    "path = r'D:\\Python\\dataset\\train.csv' #dados de treino\n",
    "path_teste = r'D:\\Python\\dataset\\test.csv' #dados de teste\n",
    "\n",
    "dados_teste = pd.read_csv(path_teste)\n",
    "dados = pd.read_csv(path)\n",
    "\n",
    "dados.isnull().count()\n"
   ]
  },
  {
   "cell_type": "code",
   "execution_count": 2,
   "metadata": {},
   "outputs": [],
   "source": [
    "#Definindo variáveis numéricas\n",
    "MSZoning_num = {'A':1, 'C':2, 'FV':3, 'I':4, 'RH':5, 'RL':6, 'RP':7, 'RM':8}\n",
    "dados['MSZoning'] = dados['MSZoning'].replace(MSZoning_num)\n",
    "\n",
    "Street_num = {'Grvl':0, 'Pave':1}\n",
    "dados['Street'] = dados['Street'].replace(Street_num)\n",
    "\n",
    "Utilities_num = {'AllPub':0, 'NoSewr':1, 'NoSeWa':2, 'ELO':3}\n",
    "dados['Utilities'] = dados['Utilities'].replace(Utilities_num)\n",
    "\n",
    "ExterQual_num = {'Ex':10, 'Gd':8, 'TA':6, 'Fa':4, 'Po':2}\n",
    "dados['ExterQual'] = dados['ExterQual'].replace(ExterQual_num)\n",
    "\n",
    "ExterCond_num = {'Ex':10, 'Gd':8, 'TA':6, 'Fa':4, 'Po':2}\n",
    "dados['ExterCond'] = dados['ExterCond'].replace(ExterCond_num)\n",
    "\n",
    "Foundation_num = {'BrkTil':1, 'CBlock':2, 'PConc':3, 'Slab':4, 'Stone':5, 'Wood':6}\n",
    "dados['Foundation'] = dados['Foundation'].replace(Foundation_num)\n",
    "\n",
    "BsmtQual_num = {'Ex':10, 'Gd':8, 'TA':6, 'Fa':4, 'Po':2, 'NA':0}\n",
    "dados['BsmtQual'] = dados['BsmtQual'].replace(BsmtQual_num)\n",
    "\n",
    "HeatingQC_num = {'Ex':10, 'Gd':8, 'TA':6, 'Fa':4, 'Po':2}\n",
    "dados['HeatingQC'] = dados['HeatingQC'].replace(HeatingQC_num)\n",
    "\n",
    "CentralAir_num = {'N':0, 'Y':1}\n",
    "dados['CentralAir'] = dados['CentralAir'].replace(CentralAir_num)\n",
    "\n",
    "\n",
    "#atribuindo valores numéricos as variáveis do Dataframe de teste\n",
    "\n",
    "MSZoning_num = {'A':1, 'C':2, 'FV':3, 'I':4, 'RH':5, 'RL':6, 'RP':7, 'RM':8}\n",
    "dados_teste['MSZoning'] = dados_teste['MSZoning'].replace(MSZoning_num)\n",
    "\n",
    "Street_num = {'Grvl':0, 'Pave':1}\n",
    "dados_teste['Street'] = dados_teste['Street'].replace(Street_num)\n",
    "\n",
    "Utilities_num = {'AllPub':0, 'NoSewr':1, 'NoSeWa':2, 'ELO':3}\n",
    "dados_teste['Utilities'] = dados_teste['Utilities'].replace(Utilities_num)\n",
    "\n",
    "ExterQual_num = {'Ex':10, 'Gd':8, 'TA':6, 'Fa':4, 'Po':2}\n",
    "dados_teste['ExterQual'] = dados_teste['ExterQual'].replace(ExterQual_num)\n",
    "\n",
    "ExterCond_num = {'Ex':10, 'Gd':8, 'TA':6, 'Fa':4, 'Po':2}\n",
    "dados_teste['ExterCond'] = dados_teste['ExterCond'].replace(ExterCond_num)\n",
    "\n",
    "Foundation_num = {'BrkTil':1, 'CBlock':2, 'PConc':3, 'Slab':4, 'Stone':5, 'Wood':6}\n",
    "dados_teste['Foundation'] = dados_teste['Foundation'].replace(Foundation_num)\n",
    "\n",
    "BsmtQual_num = {'Ex':10, 'Gd':8, 'TA':6, 'Fa':4, 'Po':2, 'NA':0}\n",
    "dados_teste['BsmtQual'] = dados_teste['BsmtQual'].replace(BsmtQual_num)\n",
    "\n",
    "HeatingQC_num = {'Ex':10, 'Gd':8, 'TA':6, 'Fa':4, 'Po':2}\n",
    "dados_teste['HeatingQC'] = dados_teste['HeatingQC'].replace(HeatingQC_num)\n",
    "\n",
    "CentralAir_num = {'N':0, 'Y':1}\n",
    "dados_teste['CentralAir'] = dados_teste['CentralAir'].replace(CentralAir_num)"
   ]
  },
  {
   "cell_type": "code",
   "execution_count": 24,
   "metadata": {},
   "outputs": [],
   "source": [
    "#Seprando variaveis alvo e preditivas\n",
    "\n",
    "x = dados[['LotArea', 'Street', 'Utilities', 'OverallQual', 'OverallCond', 'ExterQual', 'ExterCond', 'Foundation', 'BsmtQual', 'HeatingQC', 'CentralAir', '2ndFlrSF', '1stFlrSF', 'LowQualFinSF', 'FullBath', 'GarageArea', 'PoolArea', 'MiscVal']]\n",
    "y = dados['SalePrice']\n",
    "\n",
    "#teste\n",
    "\n",
    "faltantes = dados.isnull().sum()\n"
   ]
  }
 ],
 "metadata": {
  "interpreter": {
   "hash": "88279d2366fe020547cde40dd65aa0e3aa662a6ec1f3ca12d88834876c85e1a6"
  },
  "kernelspec": {
   "display_name": "Python 3.9.7 ('base')",
   "language": "python",
   "name": "python3"
  },
  "language_info": {
   "codemirror_mode": {
    "name": "ipython",
    "version": 3
   },
   "file_extension": ".py",
   "mimetype": "text/x-python",
   "name": "python",
   "nbconvert_exporter": "python",
   "pygments_lexer": "ipython3",
   "version": "3.9.7"
  },
  "orig_nbformat": 4
 },
 "nbformat": 4,
 "nbformat_minor": 2
}
